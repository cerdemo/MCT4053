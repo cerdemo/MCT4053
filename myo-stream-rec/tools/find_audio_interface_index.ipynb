{
 "cells": [
  {
   "cell_type": "code",
   "execution_count": 3,
   "metadata": {},
   "outputs": [
    {
     "name": "stdout",
     "output_type": "stream",
     "text": [
      "Input Device id  0  -  Unknown USB Audio Device\n",
      "Input Device id  1  -  MacBook Pro Microphone\n",
      "Input Device id  3  -  Soundflower (2ch)\n",
      "Input Device id  4  -  Soundflower (64ch)\n",
      "Input Device id  5  -  Loopback Audio\n",
      "Input Device id  6  -  Universal Audio Thunderbolt\n",
      "Input Device id  7  -  ZoomAudioDevice\n",
      "Input Device id  8  -  Apollo_ES8\n",
      "Input Device id  9  -  SF_HP\n",
      "Input Device id  10  -  Apollo_SF\n",
      "Input Device id  11  -  UA_SF2\n"
     ]
    }
   ],
   "source": [
    "import pyaudio\n",
    "\n",
    "audio = pyaudio.PyAudio()\n",
    "\n",
    "info = audio.get_host_api_info_by_index(0)\n",
    "numdevices = info.get('deviceCount')\n",
    "for i in range(0, numdevices):\n",
    "        if (audio.get_device_info_by_host_api_device_index(0, i).get('maxInputChannels')) > 0:\n",
    "            print(\"Input Device id \", i, \" - \",\n",
    "             audio.get_device_info_by_host_api_device_index(0, i).get('name'))"
   ]
  },
  {
   "cell_type": "code",
   "execution_count": null,
   "metadata": {},
   "outputs": [],
   "source": []
  }
 ],
 "metadata": {
  "kernelspec": {
   "display_name": "Python 3",
   "language": "python",
   "name": "python3"
  },
  "language_info": {
   "codemirror_mode": {
    "name": "ipython",
    "version": 3
   },
   "file_extension": ".py",
   "mimetype": "text/x-python",
   "name": "python",
   "nbconvert_exporter": "python",
   "pygments_lexer": "ipython3",
   "version": "3.7.4"
  }
 },
 "nbformat": 4,
 "nbformat_minor": 2
}
