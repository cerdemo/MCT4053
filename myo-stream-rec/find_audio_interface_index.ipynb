{
 "cells": [
  {
   "cell_type": "code",
   "execution_count": 3,
   "metadata": {},
   "outputs": [],
   "source": [
    "import pyaudio\n",
    "\n",
    "# print('Version:', pyaudio.get_portaudio_version())\n",
    "# audio = pyaudio.PyAudio()\n",
    "# audio.get_default_host_api_info()"
   ]
  },
  {
   "cell_type": "code",
   "execution_count": 2,
   "metadata": {},
   "outputs": [
    {
     "name": "stdout",
     "output_type": "stream",
     "text": [
      "Input Device id  0  -  MacBook Pro Microphone\n",
      "Input Device id  2  -  Soundflower (2ch)\n",
      "Input Device id  3  -  Soundflower (64ch)\n",
      "Input Device id  4  -  Loopback Audio\n",
      "Input Device id  5  -  ZoomAudioDevice\n",
      "Input Device id  6  -  Apollo_ES8\n",
      "Input Device id  7  -  SF_HP\n",
      "Input Device id  8  -  Apollo_SF\n",
      "Input Device id  9  -  UA_SF2\n"
     ]
    }
   ],
   "source": [
    "info = audio.get_host_api_info_by_index(0)\n",
    "numdevices = info.get('deviceCount')\n",
    "\n",
    "for i in range(0, numdevices):\n",
    "    if (audio.get_device_info_by_host_api_device_index(0, i).get('maxInputChannels')) > 0:\n",
    "        print(\"Input Device id \", i, \" - \", audio.get_device_info_by_host_api_device_index(0, i).get('name'))"
   ]
  },
  {
   "cell_type": "code",
   "execution_count": null,
   "metadata": {},
   "outputs": [],
   "source": [
    "# 5s test recording:\n",
    "\n",
    "# stream_in = audio.open(\n",
    "#     rate=44100,\n",
    "#     channels=1,\n",
    "#     format=pyaudio.paInt16,\n",
    "#     input=True,                   # input stream flag\n",
    "#     input_device_index=0,         # input device index\n",
    "#     frames_per_buffer=1024\n",
    "# )\n",
    "\n",
    "# # read 5 seconds of the input stream\n",
    "# input_audio = stream_in.read(5 * 44100)"
   ]
  },
  {
   "cell_type": "code",
   "execution_count": null,
   "metadata": {},
   "outputs": [],
   "source": [
    "# Save the audio file:\n",
    "\n",
    "# import wave\n",
    "# output_filename = 'audio-recording.wav'\n",
    "# wav_file = wave.open(output_filename, 'wb')\n",
    "\n",
    "# # define audio stream properties\n",
    "# wav_file.setnchannels(1)        # number of channels\n",
    "# wav_file.setsampwidth(2)        # sample width in bytes\n",
    "# wav_file.setframerate(44100)    # sampling rate in Hz\n",
    "\n",
    "# # write samples to the file\n",
    "# wav_file.writeframes(input_audio)"
   ]
  }
 ],
 "metadata": {
  "kernelspec": {
   "display_name": "Python 3",
   "language": "python",
   "name": "python3"
  },
  "language_info": {
   "codemirror_mode": {
    "name": "ipython",
    "version": 3
   },
   "file_extension": ".py",
   "mimetype": "text/x-python",
   "name": "python",
   "nbconvert_exporter": "python",
   "pygments_lexer": "ipython3",
   "version": "3.7.4"
  }
 },
 "nbformat": 4,
 "nbformat_minor": 2
}
